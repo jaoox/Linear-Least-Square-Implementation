{
  "nbformat": 4,
  "nbformat_minor": 0,
  "metadata": {
    "colab": {
      "provenance": []
    },
    "kernelspec": {
      "name": "python3",
      "display_name": "Python 3"
    },
    "language_info": {
      "name": "python"
    }
  },
  "cells": [
    {
      "cell_type": "markdown",
      "source": [
        "# Linear Least Square\n",
        "\n",
        "We want to minimize the square error between the estimated value of our dependent variable y_hat = f(xi, beta) and the real value of y:\n",
        "\n",
        "![image.png](data:image/png;base64,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)\n",
        "\n",
        "As we're trying to implement a simple linear regression problem, we can write the objective function as:\n",
        "\n",
        "![CodeCogsEqn (2).png](data:image/png;base64,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)\n",
        "\n",
        "Beta being a vector with size (n x m) n being the number of independent variables and m being the number of rows of the data. We want to minimize this function by taking partial derivatives with respect to each coefficient Beta:\n",
        "\n",
        "![CodeCogsEqn.png](data:image/png;base64,iVBORw0KGgoAAAANSUhEUgAAAF8AAABHBAMAAACT54YwAAAAMFBMVEX///8AAAAAAAAAAAAAAAAAAAAAAAAAAAAAAAAAAAAAAAAAAAAAAAAAAAAAAAAAAAAv3aB7AAAAD3RSTlMAEJnN3WZEqzIiu1Tvdolp0hSGAAAACXBIWXMAAA7EAAAOxAGVKw4bAAADUElEQVRIDZVWS2gTURS9k88kk3+L4sJPQ62IIlJp3XRh07oQpNhsFHSTbMSVNCLY7hp04aZgsAtXYouL4kJbIa4TpC6UagO6EYQOiBR1kforSqvjuW8moSnNezMX5rw7c8958773PSIi7WD/SRRsl5bOpUK2K8ErRZqeFfFbE7R76KiEKkLhNIo+dvV1wNRfdmXm30B0bAGwLwsI/ZaROZZkQTID6MdD8SqjzHSuN/CNyPjOtGhBRm7G/GhIVAiCrFdb7Bf6/JN54ZSSvX9gPJ+EQLMeKblMiL8hOv+AR7RuDT91IZnPE/ly6DQlLMvFT0JoDEVHq0Da22NtKruQ6wUzbKVZQHTAKthOe7SyiOlW0WFUMo7Trgha3IYERlQXlORaO6bzPSQGn6chIr7EqgqBX0wvNyQgmF1phSAiVvNgEQtWMHMlhSD+D4Qgq+p5gPYaILdFhCsmYGQIMF0AyG1qlu6+AEVbL7+n++wpTOtZfMwUvaZ9XBpW9UBRWUvYOL6abfmgeimn6IuKszVuYE/6za1fFH6oF8PPm8CtdZlIE2KWXSoq3OMfLslMEwth2YNgsgjyaMq9Yl4ISu0FWodjTqW8oElAG00OKcQ2W6EUbK/HFpSoUc2Wcm07V7wLwagHAec7T6NUX4DAEj/bGXLNRtqdrtTAk810c1g77Ao5nXhaS5EMEv0fW+wKDRwIAdMV1SGVS6Q8wlvqC3c393Rn3+msHTO6D5strB1f9AkyBuyxu5Kid7a3I9P5eBOlv5dfoiZRLM2e1AYXkMY2mHIPT0BIpQILAhLHxDU4yRkpmYOXGXjz6TU4YwwujFdvCCL7huJCsJwl2gOe76WarL2du0F8mD4z5h6e4b8o7INJwYtWnuiItvr1uoKMcISvGYf49J2BEygA5DaJxlB5E2cQcxPKfBsUu+gOTt8oK4NiBmW/4JsSRh/Z31eCE1cmaHHxoXrGuQr4hJ7raGeTGY40poH48ie3wTTiUV5KV5nYVWWU2XwNUVHvJ6atcM+ltmIinGPVKTyGLPMgDotl0CK+cGg8ybtOAOQWfpUyjnE79AsFij6Xk0W0c+QsN4gSpdvjT0ouBA1KpOG4LXk3eDKxU70oPnshM3fGqyDtSvAfX5f5K6apAEcAAAAASUVORK5CYII=)\n",
        "\n",
        "![CodeCogsEqn (3).png](data:image/png;base64,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)\n",
        "\n",
        "Now that we know how to calculate beta, we can predict y_hat with it\n",
        "\n"
      ],
      "metadata": {
        "id": "qjBgoN81hMb0"
      }
    },
    {
      "cell_type": "code",
      "execution_count": 20,
      "metadata": {
        "id": "aq7fb3CYU45g"
      },
      "outputs": [],
      "source": [
        "import pandas as pd\n",
        "import numpy as np\n",
        "from sklearn.model_selection import train_test_split\n",
        "from sklearn.linear_model import LinearRegression\n",
        "\n"
      ]
    },
    {
      "cell_type": "code",
      "source": [
        "def beta(X, y):\n",
        "  # this function should return the vector Beta with length equals to the number of independent variables\n",
        "\n",
        "  X = X.to_numpy()\n",
        "  y = y.to_numpy()\n",
        "\n",
        "  X_dot_multip_inv = np.dot(np.linalg.inv(np.dot(np.transpose(X), X)), np.transpose(X)) # (X^T X)^-1 X^T\n",
        "  beta = np.dot(X_dot_multip_inv, y)\n",
        "  return beta\n",
        "\n",
        "def linear_least_square(X_train, y_train, X_test):\n",
        "  Beta = beta(X_train, y_train)\n",
        "  y_hat = np.dot(X_test, Beta)\n",
        "  return y_hat\n",
        "\n",
        "def normalization(X_train, X_test):\n",
        "\n",
        "  X_mean = X_train.mean()\n",
        "  X_std = X_train.std()\n",
        "\n",
        "  columns = list(X_train.columns)\n",
        "\n",
        "  for i in columns:\n",
        "    X_test[i]  = (X_test[i] - X_mean[i])/X_std[i]\n",
        "    X_train[i] = (X_train[i] - X_mean[i])/X_std[i]\n",
        "\n",
        "  return X_train, X_test\n",
        "\n",
        "def scaling(X_train, X_test):\n",
        "\n",
        "  X_max = np.max(X_train)\n",
        "  X_min = np.min(X_train)\n",
        "\n",
        "  columns = list(X_train.columns)\n",
        "  for i in columns:\n",
        "    X_test[i]  = (X_test[i] - X_min[i])/(X_max[i] - X_min[i])\n",
        "    X_train[i]  = (X_train[i] - X_min[i])/(X_max[i] - X_min[i])\n",
        "\n",
        "  return X_train, X_test\n",
        "\n",
        "def RMSE(y, y_hat):\n",
        "\n",
        "  y_size = len(y)\n",
        "  dif = np.power(y - y_hat, 2)\n",
        "  return np.sqrt(np.sum(dif)/y_size)"
      ],
      "metadata": {
        "id": "U67jZ7zMdJ0p"
      },
      "execution_count": 18,
      "outputs": []
    },
    {
      "cell_type": "code",
      "source": [
        "# Preparing the Data\n",
        "df = pd.read_csv('/content/mtcars.csv', sep=';', decimal=',')\n",
        "df = df.set_index('Unnamed: 0')\n",
        "\n",
        "\n",
        "X = df.drop(['mpg', 'mpg_bin'], axis = 1)\n",
        "y = df[['mpg']]\n",
        "\n",
        "X_train, X_test, y_train, y_test = train_test_split(X, y, test_size=0.15, random_state=42)\n",
        "\n",
        "# Normalisation / Scaling\n",
        "X_train_norm, X_test_norm = normalization(X_train, X_test)\n",
        "X_train_scaling, X_test_scaling = scaling(X_train, X_test)\n",
        "\n",
        "\n",
        "# Linear Regression\n",
        "y_hat_norm = linear_least_square(X_train_norm, y_train, X_test_norm)\n",
        "y_hat_scaling = linear_least_square(X_train_scaling, y_train, X_test_scaling)\n",
        "\n",
        "# RMSE\n",
        "rmse_norm = RMSE(y_test, y_hat_norm)\n",
        "print(\"RMSE with normalization\", rmse_norm)\n",
        "\n",
        "rmse_scaling = RMSE(y_test, y_hat_scaling)\n",
        "print(\"RMSE with normalization\", rmse_scaling)"
      ],
      "metadata": {
        "colab": {
          "base_uri": "https://localhost:8080/"
        },
        "id": "_MdR0s3lWTyM",
        "outputId": "7a38c860-7a82-4751-af6a-9fb9c842c969"
      },
      "execution_count": 19,
      "outputs": [
        {
          "output_type": "stream",
          "name": "stdout",
          "text": [
            "RMSE with normalization mpg    7.299238\n",
            "dtype: float64\n",
            "RMSE with normalization mpg    7.299238\n",
            "dtype: float64\n"
          ]
        },
        {
          "output_type": "stream",
          "name": "stderr",
          "text": [
            "/usr/local/lib/python3.10/dist-packages/numpy/core/fromnumeric.py:84: FutureWarning: In a future version, DataFrame.max(axis=None) will return a scalar max over the entire DataFrame. To retain the old behavior, use 'frame.max(axis=0)' or just 'frame.max()'\n",
            "  return reduction(axis=axis, out=out, **passkwargs)\n",
            "/usr/local/lib/python3.10/dist-packages/numpy/core/fromnumeric.py:84: FutureWarning: In a future version, DataFrame.min(axis=None) will return a scalar min over the entire DataFrame. To retain the old behavior, use 'frame.min(axis=0)' or just 'frame.min()'\n",
            "  return reduction(axis=axis, out=out, **passkwargs)\n"
          ]
        }
      ]
    }
  ]
}